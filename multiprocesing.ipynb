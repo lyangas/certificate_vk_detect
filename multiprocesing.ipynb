{
 "cells": [
  {
   "cell_type": "code",
   "execution_count": null,
   "metadata": {},
   "outputs": [],
   "source": [
    "import time\n",
    "import requests\n",
    "import json\n",
    "\n",
    "import os\n",
    "from multiprocessing import Process, current_process\n",
    "import multiprocessing as mp\n",
    "\n",
    "user_ids = [file_name.split('.')[0] for file_name in os.listdir('saved_data')]"
   ]
  },
  {
   "cell_type": "code",
   "execution_count": null,
   "metadata": {
    "tags": []
   },
   "outputs": [],
   "source": [
    "%%time\n",
    "\n",
    "def vk_api(method, data, access_token='f54fe3b72906d9d9194ad529c1cd65d8f20e0bee7086f93a8d01ebea4ca66940af1eca4bcf21887f02a66', old_time=time.time()):\n",
    "\n",
    "    version = '5.37'\n",
    "\n",
    "    link = \"https://api.vk.com/method/{}?access_token={}&v={}\".format(method, access_token, version)\n",
    "    for key, val in data.items():\n",
    "        link += '&{}={}'.format(key, str(val))\n",
    "\n",
    "    res = requests.get(link)\n",
    "\n",
    "    time_delta = time.time() - old_time\n",
    "    if time_delta < 0.333:\n",
    "        time.sleep(0.333 - time_delta)\n",
    "    return res.json(), time.time()\n",
    "\n",
    "data = {'group_id': 'sci',\n",
    "        'offset': 0,\n",
    "        'count': 1000}\n",
    "\n",
    "old_time = time.time()\n",
    "for i in range(20):\n",
    "    try:\n",
    "        res, old_time = vk_api('groups.getMembers', data, old_time=old_time)\n",
    "        res = res['response']['items']\n",
    "    except Exception as e:\n",
    "        print(str(e))\n",
    "        print(i)\n",
    "        print(res)\n",
    "        break"
   ]
  },
  {
   "cell_type": "code",
   "execution_count": null,
   "metadata": {
    "tags": []
   },
   "outputs": [],
   "source": [
    "users = requests.get('http://78.47.176.17:14288/api/get_all_users').json()\n",
    "\n",
    "for user in users:\n",
    "    user['old_time'] = time.time()\n",
    "\n",
    "users"
   ]
  },
  {
   "cell_type": "code",
   "execution_count": null,
   "metadata": {},
   "outputs": [],
   "source": [
    "vk_api('groups.getById', {'group_id': '163528123', 'fields': 'members_count'})[0]['response'][0]['members_count']"
   ]
  },
  {
   "cell_type": "code",
   "execution_count": null,
   "metadata": {
    "tags": []
   },
   "outputs": [],
   "source": [
    "%%time\n",
    "\n",
    " \n",
    "def get_users(token, user):\n",
    "    data = {'group_id': 'sci',\n",
    "            'offset': 0,\n",
    "            'count': 1000}\n",
    "\n",
    "    try:\n",
    "        old_time = user['old_time']\n",
    "        res, old_time = vk_api('groups.getMembers', data, token, old_time)\n",
    "        user['old_time'] = old_time\n",
    "\n",
    "        with open('multiproc.txt') as f:\n",
    "            old_data = f.read()\n",
    "        new_data = old_data + '\\n' + str(old_time)\n",
    "        with open('multiproc.txt', 'w') as f:\n",
    "            f.write(new_data)\n",
    "\n",
    "        res = res['response']['items']\n",
    "        res = 'success'\n",
    "    except Exception as e:\n",
    "        pass\n",
    "    proc_name = current_process().name\n",
    "    print('res: {}\\nproc_name: {}\\n'.format(res, proc_name))\n",
    " \n",
    "\n",
    "if __name__ == '__main__':\n",
    "    for user in users:\n",
    "        user['old_time'] = time.time()\n",
    "\n",
    "    procs = []\n",
    "    \n",
    "    for i in range(20 // len(users)):\n",
    "        for user in users:\n",
    "            token = user['token']\n",
    "            proc = Process(target=get_users, args=(token, user,))\n",
    "            procs.append(proc)\n",
    "            proc.start()\n",
    "        \n",
    "        for proc in procs:\n",
    "            proc.join()"
   ]
  },
  {
   "cell_type": "code",
   "execution_count": null,
   "metadata": {
    "tags": []
   },
   "outputs": [],
   "source": [
    "%%time\n",
    "\n",
    "\n",
    "class ParallelWorker:\n",
    "    def __init__(self):\n",
    "        self.break_var = False\n",
    "\n",
    "    def get_users(self, user, args, return_dict):\n",
    "        data = {'group_id': args['group_id'],\n",
    "                'count': 1000,\n",
    "                'offset': args['offset']}\n",
    "        \n",
    "        try:\n",
    "            old_time = user['old_time']\n",
    "            token = user['token']\n",
    "            res, old_time = vk_api('groups.getMembers', data, token, old_time)\n",
    "            user['old_time'] = old_time\n",
    "            \n",
    "            res = res['response']['items']\n",
    "\n",
    "\n",
    "            proc_name = current_process().name\n",
    "            with open('multiproc.txt') as f:\n",
    "                old_data = f.read()\n",
    "            new_data = old_data + '\\n' + str(proc_name) + ' => ' + str(res)\n",
    "            with open('multiproc.txt', 'w') as f:\n",
    "                f.write(new_data)\n",
    "\n",
    "            \n",
    "            return_dict[proc_name] = res\n",
    "        except Exception as e:\n",
    "            print('error!\\n', str(e))\n",
    "            pass\n",
    "        \n",
    "    \n",
    "    \n",
    "    def parallel_def(self, fn, args=[]):\n",
    "        users = requests.get('http://78.47.176.17:14288/api/get_all_users').json()\n",
    "\n",
    "        for user in users: # брать и записывать в бд\n",
    "            user['old_time'] = time.time()\n",
    "\n",
    "        procs = []\n",
    "        manager = mp.Manager()\n",
    "        return_dict = manager.dict()\n",
    "        self.break_var = False\n",
    "        while len(args['var']) > 0:\n",
    "            for user in users:\n",
    "                if len(args) == 0:\n",
    "                    break\n",
    "                arg = args['var'].pop()\n",
    "                arg.update(args['static'])\n",
    "                proc = Process(target=fn, args=(user, arg, return_dict,))\n",
    "                procs.append(proc)\n",
    "                proc.start()\n",
    "            \n",
    "            for proc in procs:\n",
    "                proc.join()\n",
    "\n",
    "        return [val for arr in return_dict.values() for val in arr]\n",
    "\n",
    "parallel_worker = ParallelWorker()\n",
    "getted_users = parallel_worker.parallel_def(parallel_worker.get_users, args={'var': [{'offset': i} for i in range(0, 10000, 1000)], 'static': {'group_id': '163528123'}})"
   ]
  },
  {
   "cell_type": "code",
   "execution_count": null,
   "metadata": {},
   "outputs": [],
   "source": [
    "items = Session.query.filter_by(status='in_queue').first()\n",
    "json.loads(json.dumps(items, cls=AlchemyEncoder))\n"
   ]
  },
  {
   "cell_type": "code",
   "execution_count": null,
   "metadata": {},
   "outputs": [],
   "source": [
    "[i for i in range(0, 80, 1000)]"
   ]
  },
  {
   "cell_type": "code",
   "execution_count": null,
   "metadata": {},
   "outputs": [],
   "source": [
    "len(list(set(getted_users)))"
   ]
  },
  {
   "cell_type": "code",
   "execution_count": null,
   "metadata": {},
   "outputs": [],
   "source": [
    "a = [1,2,3,4,5]\n",
    "a[2:4]"
   ]
  },
  {
   "cell_type": "code",
   "execution_count": null,
   "metadata": {},
   "outputs": [],
   "source": [
    "len(list(set(getted_users)))"
   ]
  },
  {
   "cell_type": "code",
   "execution_count": null,
   "metadata": {},
   "outputs": [],
   "source": [
    "(*[i for i in range(5)])"
   ]
  },
  {
   "cell_type": "code",
   "execution_count": null,
   "metadata": {},
   "outputs": [],
   "source": [
    "items = Session.query.filter(not_(Session.status.contains('in_queue'))).all()\n",
    "json.loads(json.dumps(items, cls=AlchemyEncoder))\n"
   ]
  },
  {
   "cell_type": "code",
   "execution_count": null,
   "metadata": {},
   "outputs": [],
   "source": [
    "items = Session.query.filter(and_(not_(Session.status.contains('in_queue')), not_(Session.status.contains('complete')))).first()\n",
    "json.loads(json.dumps(items, cls=AlchemyEncoder))\n"
   ]
  },
  {
   "cell_type": "code",
   "execution_count": null,
   "metadata": {},
   "outputs": [],
   "source": [
    "session = Session(status='success', data=['1111', '2222'])\n",
    "\n",
    "try:\n",
    "    db.session.add(session)\n",
    "    db.session.commit()\n",
    "    db.session.rollback()\n",
    "except Exception as e:\n",
    "    print(str(e))"
   ]
  },
  {
   "cell_type": "code",
   "execution_count": null,
   "metadata": {},
   "outputs": [],
   "source": [
    "from sqlalchemy import or_, not_, and_\n",
    "\n",
    "#filter(or_(*[Сertificate.id.like(cert_id) for cert_id in filtred_cert_ids]))"
   ]
  }
 ],
 "metadata": {
  "kernelspec": {
   "display_name": "Python 3",
   "language": "python",
   "name": "python3"
  },
  "language_info": {
   "codemirror_mode": {
    "name": "ipython",
    "version": 3
   },
   "file_extension": ".py",
   "mimetype": "text/x-python",
   "name": "python",
   "nbconvert_exporter": "python",
   "pygments_lexer": "ipython3",
   "version": "3.7.7-final"
  }
 },
 "nbformat": 4,
 "nbformat_minor": 4
}
