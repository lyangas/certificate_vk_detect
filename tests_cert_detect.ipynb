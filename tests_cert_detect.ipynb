{
 "cells": [
  {
   "cell_type": "code",
   "execution_count": null,
   "metadata": {},
   "outputs": [],
   "source": [
    "%%time\n",
    "import requests\n",
    "import json\n",
    "\n",
    "with open('test_ids.txt') as f:\n",
    "    ids = json.loads(f.read())\n",
    "\n",
    "print(requests.get('http://0.0.0.0:14281/api/test').json())\n",
    "\n",
    "print(requests.post('http://0.0.0.0:14281/api/analyze', data=json.dumps({'ids': ids[:3], 'session_name': 'single worker'})).text)\n",
    "\n",
    "# 1 worker 20 users = 8.2мин\n",
    "# 1608888604  - 1608888111)/60\n",
    "# 5 worker 20 users = 2.3мин\n",
    "# 16 36 53"
   ]
  },
  {
   "cell_type": "code",
   "execution_count": null,
   "metadata": {},
   "outputs": [],
   "source": [
    "res = requests.post('http://0.0.0.0:5080/api/search', data=json.dumps({'from': 0, 'to': 10, 'fuilds': {'required_words': [], 'any_words': ['сертификат', 'участника']}})).json()\n",
    "\n",
    "print(res['response']['clusters_cnt'])\n",
    "print(len(res['response']['clusters']))"
   ]
  }
 ],
 "metadata": {
  "kernelspec": {
   "display_name": "Python 3",
   "language": "python",
   "name": "python3"
  },
  "language_info": {
   "codemirror_mode": {
    "name": "ipython",
    "version": 3
   },
   "file_extension": ".py",
   "mimetype": "text/x-python",
   "name": "python",
   "nbconvert_exporter": "python",
   "pygments_lexer": "ipython3",
   "version": "3.7.7-final"
  }
 },
 "nbformat": 4,
 "nbformat_minor": 4
}
